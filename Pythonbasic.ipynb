{
  "nbformat": 4,
  "nbformat_minor": 0,
  "metadata": {
    "colab": {
      "provenance": []
    },
    "kernelspec": {
      "name": "python3",
      "display_name": "Python 3"
    },
    "language_info": {
      "name": "python"
    }
  },
  "cells": [
    {
      "cell_type": "markdown",
      "source": [
        "#**THEORY QUESTIONS**"
      ],
      "metadata": {
        "id": "dYS2ZqiaMSeq"
      }
    },
    {
      "cell_type": "markdown",
      "source": [
        "#1. What is Python, and why is it popular?\n",
        "\n",
        "->Python is a high-level, interpreted programming language that is widely used for software development, data analysis, machine learning, web development,automation and more.\n",
        ".Python is popular because it’s simple, powerful, and versatile.\n"
      ],
      "metadata": {
        "id": "FOps5HwQshEv"
      }
    },
    {
      "cell_type": "markdown",
      "source": [
        "#2. What is an interpreter in Python ?\n",
        "\n",
        "-> An interpreter in Python is a program that executes Python code line by line.\n",
        "\n",
        "When you write Python code (.py file), the interpreter reads it, translates it into bytecode, and then executes it using the Python Virtual Machine (PVM).\n",
        "\n",
        "Unlike a compiler, which translates the entire program into machine code at once, an interpreter runs the code step by step."
      ],
      "metadata": {
        "id": "ZPUE18u0u7D0"
      }
    },
    {
      "cell_type": "markdown",
      "source": [
        "#3. What are pre-defined keywords in Python ?\n",
        "\n",
        "-> Pre-defined keywords are reserved words in Python that have special meaning and purpose in the language.\n",
        "Some Examples of Python Keywords\n",
        "Control flow → if, else, elif, for, while, break, continue\n",
        "Boolean values → True, False, None\n",
        "Functions and Classes → def, class, return, lambda\n",
        "Operators → and, or, not, in, is\n",
        "Exception handling → try, except, finally, raise\n",
        "Importing modules → import, from, as"
      ],
      "metadata": {
        "id": "9rti7th8wJfD"
      }
    },
    {
      "cell_type": "markdown",
      "source": [
        "#4.Can keywords be used as variable names ?\n",
        "\n",
        "-> keywords cannot be used as variable names in Python."
      ],
      "metadata": {
        "id": "XZ3PMAQF0ThP"
      }
    },
    {
      "cell_type": "markdown",
      "source": [
        "#5. What is mutability in Python ?\n",
        "\n",
        "->Mutability in Python means whether the value of an object can be changed (modified) after it is created.\n"
      ],
      "metadata": {
        "id": "mg8q5M810tWk"
      }
    },
    {
      "cell_type": "markdown",
      "source": [
        "#6. Why are lists mutable, but tuples are immutable ?\n",
        "-> Because list meant for dynamic data where frequent changes are needed.\n",
        "\n",
        "Tuples meant for static, fixed data safer and more memory-efficient."
      ],
      "metadata": {
        "id": "OIcBlFXY1sKX"
      }
    },
    {
      "cell_type": "markdown",
      "source": [
        "#7. What is the difference between “==” and “is” operators in Python ?\n",
        "\n",
        "-> \"==\" → checks value equality.\n",
        "\n",
        "  \"is\" → checks object identity (memory location)."
      ],
      "metadata": {
        "id": "kCgF1W-i2-46"
      }
    },
    {
      "cell_type": "markdown",
      "source": [
        "#8. What are logical operators in Python ?\n",
        "\n",
        "-> Python has 3 logical operator. (And , Or, Not)."
      ],
      "metadata": {
        "id": "Wru6etT-4rfP"
      }
    },
    {
      "cell_type": "markdown",
      "source": [
        "#9. What is type casting in Python?\n",
        "\n",
        "-> Type casting in Python means changing the data type of a variable from one type to another."
      ],
      "metadata": {
        "id": "v6T7CQTu6VYF"
      }
    },
    {
      "cell_type": "markdown",
      "source": [
        "#10. What is the difference between implicit and explicit type casting ?\n",
        "\n",
        "-> Implict type casting done automatically by Python. Python converts one data type into another without data loss risk.\n",
        "   Explicit type casting done manually by the programmer. Uses built-in functions: int(), float(), str(), list(), tuple(), etc."
      ],
      "metadata": {
        "id": "ZjLEfKp8Djog"
      }
    },
    {
      "cell_type": "markdown",
      "source": [
        "#11. What is the purpose of conditional statements in Python ?\n",
        "\n",
        "-> Conditional statements are used to make decisions in a program.\n",
        "They allow Python code to execute certain blocks only if specific conditions are true and skip or choose alternatives if conditions are false."
      ],
      "metadata": {
        "id": "dn6dwz7dII8i"
      }
    },
    {
      "cell_type": "markdown",
      "source": [
        "#12. How does the elif statement work ?\n",
        "\n",
        "-> The elif statement is used to test multiple conditions in sequence and it executes the first condition that evaluates to True."
      ],
      "metadata": {
        "id": "iXWpyT40Jyah"
      }
    },
    {
      "cell_type": "markdown",
      "source": [
        "#13 What is the difference between for and while loops ?\n",
        "\n",
        "-> For loops Use when you know how many times you need to loop.\n",
        "\n",
        "  While loops Use when you need to loop until a condition is met."
      ],
      "metadata": {
        "id": "AUh6GfV4Kca_"
      }
    },
    {
      "cell_type": "markdown",
      "source": [
        "#14. Describe a scenario where a while loop is more suitable than a for loop.\n",
        "\n",
        "->A while loop is more suitable when you don’t know in advance how many times to repeat, and you want to keep going until a condition is satisfied.\n",
        "\n",
        "correct_password = \"python123\"\n",
        "password = \"\"\n",
        "\n",
        "while password != correct_password:\n",
        "    password = input(\"Enter your password: \")\n",
        "\n",
        "print(\"Login successful \")."
      ],
      "metadata": {
        "id": "A84nfWgxLSJP"
      }
    },
    {
      "cell_type": "markdown",
      "source": [
        "#**PRACTICAL QUESTIONS**"
      ],
      "metadata": {
        "id": "H4jjtafoMpLO"
      }
    },
    {
      "cell_type": "markdown",
      "source": [
        "#1. Write a Python program to print \"Hello, World!\""
      ],
      "metadata": {
        "id": "gLet6IO7MzDt"
      }
    },
    {
      "cell_type": "code",
      "source": [
        "print (\"Hello, World!\")"
      ],
      "metadata": {
        "colab": {
          "base_uri": "https://localhost:8080/"
        },
        "id": "OmfZvj0TNIXz",
        "outputId": "229dd1de-8224-43b9-bcd0-6931fcd20f07"
      },
      "execution_count": null,
      "outputs": [
        {
          "output_type": "stream",
          "name": "stdout",
          "text": [
            "Hello, World!\n"
          ]
        }
      ]
    },
    {
      "cell_type": "markdown",
      "source": [
        "#2. Write a Python program that displays your name and age."
      ],
      "metadata": {
        "id": "d1yhwlFWNT6v"
      }
    },
    {
      "cell_type": "code",
      "source": [
        "name = \"Mohona\"\n",
        "age = 28\n",
        "print (name, age)"
      ],
      "metadata": {
        "colab": {
          "base_uri": "https://localhost:8080/"
        },
        "id": "SqBXLbFLNQzf",
        "outputId": "4a60bc96-83e2-4ac3-b86f-0875ff63c26f"
      },
      "execution_count": null,
      "outputs": [
        {
          "output_type": "stream",
          "name": "stdout",
          "text": [
            "Mohona 28\n"
          ]
        }
      ]
    },
    {
      "cell_type": "markdown",
      "source": [
        "#3. Write code to print all the pre-defined keywords in Python using the keyword library."
      ],
      "metadata": {
        "id": "c60BZAzH2mK4"
      }
    },
    {
      "cell_type": "code",
      "source": [
        "help(\"keywords\")"
      ],
      "metadata": {
        "id": "Ix_7zSDAgmJE",
        "colab": {
          "base_uri": "https://localhost:8080/"
        },
        "outputId": "90198052-eafa-4ede-846c-9286451f9281"
      },
      "execution_count": 2,
      "outputs": [
        {
          "output_type": "stream",
          "name": "stdout",
          "text": [
            "\n",
            "Here is a list of the Python keywords.  Enter any keyword to get more help.\n",
            "\n",
            "False               class               from                or\n",
            "None                continue            global              pass\n",
            "True                def                 if                  raise\n",
            "and                 del                 import              return\n",
            "as                  elif                in                  try\n",
            "assert              else                is                  while\n",
            "async               except              lambda              with\n",
            "await               finally             nonlocal            yield\n",
            "break               for                 not                 \n",
            "\n"
          ]
        }
      ]
    },
    {
      "cell_type": "markdown",
      "source": [
        "#4. Write a program that checks if a given word is a Python keyword."
      ],
      "metadata": {
        "id": "qu-GABjJ29a3"
      }
    },
    {
      "cell_type": "code",
      "source": [
        "import keyword\n",
        "\n",
        "# Take input from user\n",
        "word = input(\"mohona: \")\n",
        "\n",
        "# Check if it's a Python keyword\n",
        "if keyword.iskeyword(word):\n",
        "    print(f\"'{word}' is a Python keyword.\")\n",
        "else:\n",
        "    print(f\"'{word}' is NOT a Python keyword.\")\n"
      ],
      "metadata": {
        "colab": {
          "base_uri": "https://localhost:8080/"
        },
        "id": "420Npr-Z3wlr",
        "outputId": "47fb92a7-fc2b-41dc-e9c3-d860899b4c84"
      },
      "execution_count": null,
      "outputs": [
        {
          "output_type": "stream",
          "name": "stdout",
          "text": [
            "mohona: mohona\n",
            "'mohona' is NOT a Python keyword.\n"
          ]
        }
      ]
    },
    {
      "cell_type": "markdown",
      "source": [
        "#5. Create a list and tuple in Python, and demonstrate how attempting to change an element works differently\n",
        "for each.\n"
      ],
      "metadata": {
        "id": "9jTKupWfWnUV"
      }
    },
    {
      "cell_type": "code",
      "source": [
        "# Create a list and a tuple\n",
        "my_list = [10, 20, 30]\n",
        "my_tuple = (10, 20, 30)\n",
        "\n",
        "print(\"Original List:\", my_list)\n",
        "print(\"Original Tuple:\", my_tuple)\n",
        "\n",
        "my_list[1] = 200\n",
        "print(\"Modified List:\", my_list)\n",
        "\n",
        "try:\n",
        "    my_tuple[1] = 200\n",
        "except TypeError as e:\n",
        "    print(\"Error while modifying tuple:\", e)\n"
      ],
      "metadata": {
        "colab": {
          "base_uri": "https://localhost:8080/"
        },
        "id": "5RkJ4UeaW1VZ",
        "outputId": "63391012-f01a-4e0a-8bf3-041f27acf79e"
      },
      "execution_count": null,
      "outputs": [
        {
          "output_type": "stream",
          "name": "stdout",
          "text": [
            "Original List: [10, 20, 30]\n",
            "Original Tuple: (10, 20, 30)\n",
            "Modified List: [10, 200, 30]\n",
            "Error while modifying tuple: 'tuple' object does not support item assignment\n"
          ]
        }
      ]
    },
    {
      "cell_type": "markdown",
      "source": [
        "#6. Write a function to demonstrate the behavior of mutable and immutable arg"
      ],
      "metadata": {
        "id": "LYMaXff_i4PN"
      }
    },
    {
      "cell_type": "code",
      "source": [
        "def modify_args(num, my_list):\n",
        "    # num is immutable (int)\n",
        "    num += 10\n",
        "\n",
        "    # my_list is mutable (list)\n",
        "    my_list.append(100)\n",
        "\n",
        "    print(\"Inside function:\")\n",
        "    print(\"num =\", num)\n",
        "    print(\"my_list =\", my_list)\n",
        "\n",
        "\n",
        "x = 5\n",
        "y = [1, 2, 3]\n",
        "\n",
        "print(\"Before function call:\")\n",
        "print(\"x =\", x)\n",
        "print(\"y =\", y)\n",
        "\n",
        "modify_args(x, y)\n",
        "\n",
        "print(\"\\nAfter function call:\")\n",
        "print(\"x =\", x)\n",
        "print(\"y =\", y)"
      ],
      "metadata": {
        "colab": {
          "base_uri": "https://localhost:8080/"
        },
        "id": "h61QqIZfjLcT",
        "outputId": "860a7e54-5010-424f-b7c7-ab0b2db5c874"
      },
      "execution_count": null,
      "outputs": [
        {
          "output_type": "stream",
          "name": "stdout",
          "text": [
            "Before function call:\n",
            "x = 5\n",
            "y = [1, 2, 3]\n",
            "Inside function:\n",
            "num = 15\n",
            "my_list = [1, 2, 3, 100]\n",
            "\n",
            "After function call:\n",
            "x = 5\n",
            "y = [1, 2, 3, 100]\n"
          ]
        }
      ]
    },
    {
      "cell_type": "markdown",
      "source": [
        "# 7. Write a program that performs basic arithmetic operations on two user-input numbers."
      ],
      "metadata": {
        "id": "khfAa5XbjZed"
      }
    },
    {
      "cell_type": "code",
      "source": [
        "# Take input from user\n",
        "a = float(input(\"enter the first number: \"))\n",
        "b = float(input(\"enter the second number: \"))\n",
        "\n",
        "# Perform arithmetic operations\n",
        "print(\"\\nResults:\")\n",
        "print(f\"{a} + {b} = {a + b}\")\n",
        "print(f\"{a} - {b} = {a - b}\")\n",
        "print(f\"{a} * {b} = {a * b}\")\n",
        "\n",
        "\n",
        "if b != 0:\n",
        "    print(f\"{a} / {b} = {a / b}\")\n",
        "    print(f\"{a} % {b} = {a % b}\")\n",
        "    print(f\"{a} // {b} = {a // b}\")\n",
        "else:\n",
        "    print(f\"Division, modulo, and floor division not possible (b = 0)\")\n",
        "\n",
        "print(f\"{a} ** {b} = {a ** b}\")\n"
      ],
      "metadata": {
        "colab": {
          "base_uri": "https://localhost:8080/"
        },
        "id": "qqHznbS9lsqP",
        "outputId": "2e76c160-6b9d-410e-ec6d-797b78fde6d7"
      },
      "execution_count": 3,
      "outputs": [
        {
          "output_type": "stream",
          "name": "stdout",
          "text": [
            "enter the first number: 23\n",
            "enter the second number: 65\n",
            "\n",
            "Results:\n",
            "23.0 + 65.0 = 88.0\n",
            "23.0 - 65.0 = -42.0\n",
            "23.0 * 65.0 = 1495.0\n",
            "23.0 / 65.0 = 0.35384615384615387\n",
            "23.0 % 65.0 = 23.0\n",
            "23.0 // 65.0 = 0.0\n",
            "23.0 ** 65.0 = 3.2531893445129334e+88\n"
          ]
        }
      ]
    },
    {
      "cell_type": "markdown",
      "source": [
        "#8. write a program to demonstrate the use of logical operators."
      ],
      "metadata": {
        "id": "C-G1PdzrpRkx"
      }
    },
    {
      "cell_type": "code",
      "source": [
        "a = bool(int(input(\"Enter 1st value (0 or 1): \")))\n",
        "b = bool(int(input(\"Enter 2nd value (0 or 1): \")))\n",
        "\n",
        "print(\"\\na AND b:\", a and b)\n",
        "print(\"a OR b:\", a or b)\n",
        "print(\"NOT a:\", not a)"
      ],
      "metadata": {
        "colab": {
          "base_uri": "https://localhost:8080/"
        },
        "id": "jgB79_W8pjOs",
        "outputId": "cc2d3da8-9aab-4641-d47b-c8524030b2fc"
      },
      "execution_count": 4,
      "outputs": [
        {
          "output_type": "stream",
          "name": "stdout",
          "text": [
            "Enter 1st value (0 or 1): 1\n",
            "Enter 2nd value (0 or 1): 0\n",
            "\n",
            "a AND b: False\n",
            "a OR b: True\n",
            "NOT a: False\n"
          ]
        }
      ]
    },
    {
      "cell_type": "markdown",
      "source": [
        "#9. Write a Python program to convert user input from string to integer, float, and boolean types."
      ],
      "metadata": {
        "id": "bkQULkbl_xCu"
      }
    },
    {
      "cell_type": "code",
      "source": [
        "\n",
        "# Take input as string\n",
        "user_input = input(\"mohona\")\n",
        "\n",
        "# Convert to integer\n",
        "try:\n",
        "    int_val = int(user_input)\n",
        "    print(\"As Integer:\", int_val)\n",
        "except ValueError:\n",
        "    print(\"Cannot convert to Integer.\")\n",
        "\n",
        "# Convert to float\n",
        "try:\n",
        "    float_val = float(user_input)\n",
        "    print(\"As Float:\", float_val)\n",
        "except ValueError:\n",
        "    print(\"Cannot convert to Float.\")\n",
        "\n",
        "# Convert to boolean\n",
        "bool_val = bool(user_input)\n",
        "print(\"As Boolean:\", bool_val)\n"
      ],
      "metadata": {
        "colab": {
          "base_uri": "https://localhost:8080/"
        },
        "id": "HOKkClcJ_2uk",
        "outputId": "24c99db5-b7fb-47c5-fa15-3631bda7bed6"
      },
      "execution_count": null,
      "outputs": [
        {
          "output_type": "stream",
          "name": "stdout",
          "text": [
            "mohona122\n",
            "As Integer: 122\n",
            "As Float: 122.0\n",
            "As Boolean: True\n"
          ]
        }
      ]
    },
    {
      "cell_type": "markdown",
      "source": [
        "#10. Write code to demonstrate type casting with list elements."
      ],
      "metadata": {
        "id": "xdJK4whapdUl"
      }
    },
    {
      "cell_type": "code",
      "source": [
        "# List with mixed types (strings of numbers, integers, and floats)\n",
        "data = [\"10\", \"20\", \"30.5\", 40, 50.7]\n",
        "\n",
        "print(\"Original list:\", data)\n",
        "\n",
        "# Convert all elements to integers\n",
        "int_list = [int(float(x)) for x in data]\n",
        "print(\"All elements as integers:\", int_list)\n",
        "\n",
        "# Convert all elements to floats\n",
        "float_list = [float(x) for x in data]\n",
        "print(\"All elements as floats:\", float_list)\n",
        "\n",
        "# Convert all elements to strings\n",
        "str_list = [str(x) for x in data]\n",
        "print(\"All elements as strings:\", str_list)\n"
      ],
      "metadata": {
        "colab": {
          "base_uri": "https://localhost:8080/"
        },
        "id": "4xf6UpBTpfnL",
        "outputId": "a1491dbf-9ff6-4242-c16e-f2750df542a6"
      },
      "execution_count": null,
      "outputs": [
        {
          "output_type": "stream",
          "name": "stdout",
          "text": [
            "Original list: ['10', '20', '30.5', 40, 50.7]\n",
            "All elements as integers: [10, 20, 30, 40, 50]\n",
            "All elements as floats: [10.0, 20.0, 30.5, 40.0, 50.7]\n",
            "All elements as strings: ['10', '20', '30.5', '40', '50.7']\n"
          ]
        }
      ]
    },
    {
      "cell_type": "markdown",
      "source": [
        "#11. Write a program that checks if a number is positive, negative, or zero."
      ],
      "metadata": {
        "id": "cv4FF4Cnqacy"
      }
    },
    {
      "cell_type": "code",
      "source": [
        "# Program to check if a number is positive, negative, or zero\n",
        "\n",
        "# Take input from user\n",
        "num = float(input(\"27: \"))\n",
        "\n",
        "# Check conditions\n",
        "if num > 0:\n",
        "    print(\"The number is Positive.\")\n",
        "elif num < 0:\n",
        "    print(\"The number is Negative.\")\n",
        "else:\n",
        "    print(\"The number is Zero.\")\n"
      ],
      "metadata": {
        "colab": {
          "base_uri": "https://localhost:8080/"
        },
        "id": "7ivxDA12FnRy",
        "outputId": "3a54ff59-d85b-42e9-a3cf-ce46484a0d46"
      },
      "execution_count": null,
      "outputs": [
        {
          "output_type": "stream",
          "name": "stdout",
          "text": [
            "27: 98\n",
            "The number is Positive.\n"
          ]
        }
      ]
    },
    {
      "cell_type": "markdown",
      "source": [
        "#12. Write a for loop to print numbers from 1 to 10."
      ],
      "metadata": {
        "id": "tkWd6Hc2GNHv"
      }
    },
    {
      "cell_type": "code",
      "source": [
        "# Program to print numbers from 1 to 10\n",
        "\n",
        "for i in range(1, 11):\n",
        "    print(i, end=\" \")\n"
      ],
      "metadata": {
        "colab": {
          "base_uri": "https://localhost:8080/"
        },
        "id": "wODSl0L2GOzK",
        "outputId": "4d07a395-94e4-4fa8-bd27-9c4e3f281635"
      },
      "execution_count": 5,
      "outputs": [
        {
          "output_type": "stream",
          "name": "stdout",
          "text": [
            "1 2 3 4 5 6 7 8 9 10 "
          ]
        }
      ]
    },
    {
      "cell_type": "markdown",
      "source": [
        "#13. Write a Python program to find the sum of all even numbers between 1 and 50."
      ],
      "metadata": {
        "id": "-FtGGHArGgUY"
      }
    },
    {
      "cell_type": "code",
      "source": [
        "# Program to find the sum of even numbers from 1 to 50\n",
        "\n",
        "total = 0\n",
        "\n",
        "for i in range(2, 51, 2):\n",
        "    total += i\n",
        "\n",
        "print(\"The sum of even numbers between 1 and 50 is:\", total)\n"
      ],
      "metadata": {
        "colab": {
          "base_uri": "https://localhost:8080/"
        },
        "id": "kBqFrJ5WGUyI",
        "outputId": "377709dd-ddef-453b-c959-e15c155b9480"
      },
      "execution_count": null,
      "outputs": [
        {
          "output_type": "stream",
          "name": "stdout",
          "text": [
            "The sum of even numbers between 1 and 50 is: 650\n"
          ]
        }
      ]
    },
    {
      "cell_type": "markdown",
      "source": [
        "#14. Write a program to reverse a string using a while loop."
      ],
      "metadata": {
        "id": "3yoby-weGzR2"
      }
    },
    {
      "cell_type": "code",
      "source": [
        "# Program to reverse a string using while loop\n",
        "\n",
        "text = input(\"enter a string \")\n",
        "\n",
        "reversed_text = \"\"\n",
        "i = len(text) - 1\n",
        "while i >= 0:\n",
        "    reversed_text += text[i]\n",
        "    i -= 1\n",
        "\n",
        "print(\"Reversed string:\", reversed_text)\n"
      ],
      "metadata": {
        "colab": {
          "base_uri": "https://localhost:8080/"
        },
        "id": "sBJoU7kXGq6G",
        "outputId": "7c036da2-a5fc-4acf-f5e8-8379ea4934a3"
      },
      "execution_count": 6,
      "outputs": [
        {
          "output_type": "stream",
          "name": "stdout",
          "text": [
            "enter a string bruno\n",
            "Reversed string: onurb\n"
          ]
        }
      ]
    },
    {
      "cell_type": "markdown",
      "source": [
        "#15. Write a Python program to calculate the factorial of a number provided by the user using a while loop."
      ],
      "metadata": {
        "id": "h5GiSI76HMCp"
      }
    },
    {
      "cell_type": "code",
      "source": [
        "# Program to calculate factorial using while loop\n",
        "\n",
        "\n",
        "num = int(input(\"enter a number \"))\n",
        "\n",
        "factorial = 1\n",
        "i = 1\n",
        "\n",
        "while i <= num:\n",
        "    factorial *= i\n",
        "    i += 1\n",
        "\n",
        "print(\"Factorial of\", num, \"is:\", factorial)\n"
      ],
      "metadata": {
        "colab": {
          "base_uri": "https://localhost:8080/"
        },
        "id": "cIPMebTmG_ba",
        "outputId": "ab5dc837-f1fe-4aed-d32d-3c129972ebbc"
      },
      "execution_count": 7,
      "outputs": [
        {
          "output_type": "stream",
          "name": "stdout",
          "text": [
            "enter a number 7\n",
            "Factorial of 7 is: 5040\n"
          ]
        }
      ]
    }
  ]
}