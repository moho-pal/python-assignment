{
  "nbformat": 4,
  "nbformat_minor": 0,
  "metadata": {
    "colab": {
      "provenance": []
    },
    "kernelspec": {
      "name": "python3",
      "display_name": "Python 3"
    },
    "language_info": {
      "name": "python"
    }
  },
  "cells": [
    {
      "cell_type": "markdown",
      "source": [
        "#Data structure Theory questions\n"
      ],
      "metadata": {
        "id": "aeePVS4sp1ct"
      }
    },
    {
      "cell_type": "markdown",
      "source": [
        "#1. What are data structures, and why are they important?\n",
        "\n",
        "->A data structure is a way of organizing, storing, and managing data so it can be used efficiently.\n",
        "\n",
        "Data structures are important because they make programs run faster, handle more data, and solve complex problems effectively."
      ],
      "metadata": {
        "id": "zQa1pkfVqCYP"
      }
    },
    {
      "cell_type": "markdown",
      "source": [
        "#2. Explain the difference between mutable and immutable data types with examples.\n",
        "\n",
        "->1. Mutable Data Types\n",
        "Objects whose content (value) can be changed after they are created.\n",
        "\n",
        "Examples :\n",
        "List → You can add, remove, or change elements.\n",
        "Dictionary → You can change values for keys or add/remove key-value pairs.\n",
        "Set → You can add or remove elements.\n",
        "\n",
        "2.Immutable Data Types\n",
        "Definition: Objects whose content (value cannot be changed) once created.\n",
        "\n",
        "Examples:\n",
        "String,Tuple,Integer, Float, Boolean"
      ],
      "metadata": {
        "id": "_8HpjHwrqxj7"
      }
    },
    {
      "cell_type": "markdown",
      "source": [
        "#3. What are the main differences between lists and tuples in Python?\n",
        "\n",
        "-> List → Mutable → You can change, add, or remove elements after creation.\n",
        "\n",
        "   Tuple → Immutable → Once created, you cannot modify its elements."
      ],
      "metadata": {
        "id": "1wOSyDxprodg"
      }
    },
    {
      "cell_type": "markdown",
      "source": [
        "#4. Describe how dictionaries store data?\n",
        "\n",
        "-> Dictionaries store data as key–value pairs using a hash table.\n"
      ],
      "metadata": {
        "id": "Kui06fmBab_B"
      }
    },
    {
      "cell_type": "markdown",
      "source": [
        "#5. Why might you use a set instead of a list in Python?\n",
        "\n",
        "->Set automatically removes duplicate values.\n",
        "  List can have duplicates.\n",
        "\n",
        "  .Use a List when you need ordered, indexed, or duplicate elements.\n",
        "   Use a Set when you need uniqueness and fast lookups."
      ],
      "metadata": {
        "id": "ukk9YdFJa98B"
      }
    },
    {
      "cell_type": "markdown",
      "source": [
        "#6. What is a string in Python, and how is it different from a list?\n",
        "\n",
        "-> A string is a sequence of characters enclosed in single quotes (''), double quotes (\"\"), or triple quotes (''' ''' / \"\"\" \"\"\")."
      ],
      "metadata": {
        "id": "ynttNOco501e"
      }
    },
    {
      "cell_type": "markdown",
      "source": [
        "#7. How do tuples ensure data integrity in Python?\n",
        "\n",
        "-> Tuples ensure data integrity in Python because they are immutable, hashable, and provide a safe, unchangeable container for related values."
      ],
      "metadata": {
        "id": "5opPg8wB6Pk7"
      }
    },
    {
      "cell_type": "markdown",
      "source": [
        "#8. What is a hash table, A hash table = data structure that stores key–value pairs using hashing.\n",
        "\n",
        "-> A hash table is data structure that stores key–value pairs using hashing.\n",
        "\n",
        "A Python dictionary is built on top of a hash table, which is why dictionary operations are very fast and efficient.\n"
      ],
      "metadata": {
        "id": "bBqyTcS_7OBb"
      }
    },
    {
      "cell_type": "markdown",
      "source": [
        "#9. Can lists contain different data types in Python?\n",
        "\n",
        "->In Python, lists can contain elements of different data types. This is because Python is a dynamically typed language, and lists are flexible containers."
      ],
      "metadata": {
        "id": "0en9uakT9Ga8"
      }
    },
    {
      "cell_type": "markdown",
      "source": [
        "#10. Explain why strings are immutable in Python?\n",
        "\n",
        "->Python often reuses string objects with the same value to save memory (a process called string interning).\n",
        "\n",
        "If strings were mutable, changing one string could accidentally change all references to it."
      ],
      "metadata": {
        "id": "ysrbUCp390oi"
      }
    },
    {
      "cell_type": "markdown",
      "source": [
        "#11. What advantages do dictionaries offer over lists for certain tasks?\n",
        "\n",
        "-> Dictionary: Directly accesses values using a key (via hashing).\n",
        "\n",
        "List: To find a value, you often need to search element by element.*italicized text*"
      ],
      "metadata": {
        "id": "reTOIZecCTBy"
      }
    },
    {
      "cell_type": "markdown",
      "source": [
        "#12. Describe a scenario where using a tuple would be preferable over a list?\n",
        "\n",
        "-> A tuple is preferable when the data should not change, like storing coordinates (latitude, longitude) or using data as a dictionary key, since tuples are immutable and hashable. ✅"
      ],
      "metadata": {
        "id": "eEMvu0b3D-bo"
      }
    },
    {
      "cell_type": "markdown",
      "source": [
        "#13.  How do sets handle duplicate values in Python?\n",
        "\n",
        "-> Sets ignore duplicates and always store unique elements only."
      ],
      "metadata": {
        "id": "-3VL4AVrGtmO"
      }
    },
    {
      "cell_type": "markdown",
      "source": [
        "#14. How does the “in” keyword work differently for lists and dictionaries?\n",
        "\n",
        "-> For Lists -\n",
        "Checks if a value/element is present in the list.\n",
        "\n",
        "   .For Dictionaries -\n",
        "By default, in checks only the keys, not the values."
      ],
      "metadata": {
        "id": "28MKddGiUeN3"
      }
    },
    {
      "cell_type": "markdown",
      "source": [
        "#15. Can you modify the elements of a tuple? Explain why or why not?\n",
        "\n",
        "-> cannot modify tuple elements because tuples are immutable by design — they protect data from accidental changes and allow safe usage in hash-based structures."
      ],
      "metadata": {
        "id": "EmwJ2Gv4VKIL"
      }
    },
    {
      "cell_type": "markdown",
      "source": [
        "#16. What is a nested dictionary, and give an example of its use case?\n",
        "\n",
        "-> A nested dictionary is a dictionary within a dictionary, useful for representing complex, structured data like student or employee records."
      ],
      "metadata": {
        "id": "pS6a8-N4WCma"
      }
    },
    {
      "cell_type": "markdown",
      "source": [
        "#17. Describe the time complexity of accessing elements in a dictionary?\n",
        "\n",
        "-> Accessing elements in a dictionary is O(1) on average (very fast due to hashing) and O(n) in the worst case (rare, due to hash collisions)."
      ],
      "metadata": {
        "id": "qc6OTbBmWgBY"
      }
    },
    {
      "cell_type": "markdown",
      "source": [
        "#18. In what situations are lists preferred over dictionaries?\n",
        "\n",
        "-> Lists are preferred over dictionaries when:\n",
        "\n",
        "Order Matters ,\n",
        "Sequential Access ,\n",
        "Simple Collections,\n",
        "Duplicates Allowed ,\n",
        "Memory Efficiency ."
      ],
      "metadata": {
        "id": "4OIeyOZwXfM8"
      }
    },
    {
      "cell_type": "markdown",
      "source": [
        "#19. Why are dictionaries considered unordered, and how does that affect data retrieval?\n",
        "\n",
        "-> Dictionaries are considered unordered because their internal storage depends on key hashes, not positions.\n",
        "\n",
        "You must access values by key.\n",
        "\n",
        "This allows fast lookups but means position-based access isn’t reliable."
      ],
      "metadata": {
        "id": "cbO__yuKYNBi"
      }
    },
    {
      "cell_type": "markdown",
      "source": [
        "#20. Explain the difference between a list and a dictionary in terms of data retrieval?\n",
        "\n",
        "-> Lists → Access by position, slower for searching by value.\n",
        "\n",
        "  Dictionaries → Access by key, much faster for lookups, but rely on key, not position."
      ],
      "metadata": {
        "id": "QXN_wGsmY_mL"
      }
    },
    {
      "cell_type": "markdown",
      "source": [
        "#PRACTICAL QUESTIONS"
      ],
      "metadata": {
        "id": "1zJVO2FFZWMm"
      }
    },
    {
      "cell_type": "markdown",
      "source": [
        "#1. Write a code to create a string with your name and print it."
      ],
      "metadata": {
        "id": "ZFL9_wagZc_2"
      }
    },
    {
      "cell_type": "code",
      "source": [
        "my_name = \"Mohona Pal\"\n",
        "print(my_name)\n"
      ],
      "metadata": {
        "colab": {
          "base_uri": "https://localhost:8080/"
        },
        "id": "E5AH3ZoDBMlc",
        "outputId": "aa7d3d50-10cd-4c14-b937-2921c99652c7"
      },
      "execution_count": null,
      "outputs": [
        {
          "output_type": "stream",
          "name": "stdout",
          "text": [
            "Mohona Pal\n"
          ]
        }
      ]
    },
    {
      "cell_type": "markdown",
      "source": [
        "#2. Write a code to find the length of the string \"Hello World\"."
      ],
      "metadata": {
        "id": "zlSHUTuRBjCA"
      }
    },
    {
      "cell_type": "code",
      "source": [
        "# String\n",
        "text = \"Hello World\"\n",
        "length = len(text)\n",
        "print(\"Length of the string:\", length)\n"
      ],
      "metadata": {
        "colab": {
          "base_uri": "https://localhost:8080/"
        },
        "id": "7bdO8fG8BUP0",
        "outputId": "47284828-bfde-4ac7-9f3b-8bd295d87707"
      },
      "execution_count": null,
      "outputs": [
        {
          "output_type": "stream",
          "name": "stdout",
          "text": [
            "Length of the string: 11\n"
          ]
        }
      ]
    },
    {
      "cell_type": "markdown",
      "source": [
        "#3. Write a code to slice the first 3 characters from the string \"Python Programming\""
      ],
      "metadata": {
        "id": "PEQAiTm9CWcW"
      }
    },
    {
      "cell_type": "code",
      "source": [
        "text = \"Python Programming\"\n",
        "first_three = text[:3]\n",
        "print(first_three)\n"
      ],
      "metadata": {
        "colab": {
          "base_uri": "https://localhost:8080/"
        },
        "id": "3wvpAdAWBzG3",
        "outputId": "92bbba96-94a1-4cdb-9f2d-d286e615f372"
      },
      "execution_count": null,
      "outputs": [
        {
          "output_type": "stream",
          "name": "stdout",
          "text": [
            "Pyt\n"
          ]
        }
      ]
    },
    {
      "cell_type": "markdown",
      "source": [
        "#4. Write a code to convert the string \"hello\" to uppercase"
      ],
      "metadata": {
        "id": "7wMlMqNsC-vZ"
      }
    },
    {
      "cell_type": "code",
      "source": [
        "text= \"hello\"\n",
        "upper_text= text.upper()\n",
        "print (upper_text)"
      ],
      "metadata": {
        "colab": {
          "base_uri": "https://localhost:8080/"
        },
        "id": "Qn88dRcsC1_V",
        "outputId": "151e9e23-6895-4eff-a1d9-5860234e6afb"
      },
      "execution_count": null,
      "outputs": [
        {
          "output_type": "stream",
          "name": "stdout",
          "text": [
            "HELLO\n"
          ]
        }
      ]
    },
    {
      "cell_type": "markdown",
      "source": [
        "#5. Write a code to replace the word \"apple\" with \"orange\" in the string \"I like apple\""
      ],
      "metadata": {
        "id": "G9izx4MXDjFQ"
      }
    },
    {
      "cell_type": "code",
      "source": [
        "text= \"apple\"\n",
        "new_text = text.replace (\"apple\", \"orange\")\n",
        "print (new_text)"
      ],
      "metadata": {
        "colab": {
          "base_uri": "https://localhost:8080/"
        },
        "id": "M_pgfb1KDaqm",
        "outputId": "2a691f9b-2c82-4684-e117-12875a488da9"
      },
      "execution_count": null,
      "outputs": [
        {
          "output_type": "stream",
          "name": "stdout",
          "text": [
            "orange\n"
          ]
        }
      ]
    },
    {
      "cell_type": "markdown",
      "source": [
        "#6. Write a code to create a list with numbers 1 to 5 and print it"
      ],
      "metadata": {
        "id": "M25DgeRZF1YS"
      }
    },
    {
      "cell_type": "code",
      "source": [
        "list =[1,2,3,4,5]\n",
        "print (list)"
      ],
      "metadata": {
        "colab": {
          "base_uri": "https://localhost:8080/"
        },
        "id": "bN5d1FSrEbHf",
        "outputId": "4b49139d-a525-47fb-ded8-e27aaf5adbc0"
      },
      "execution_count": null,
      "outputs": [
        {
          "output_type": "stream",
          "name": "stdout",
          "text": [
            "[1, 2, 3, 4, 5]\n"
          ]
        }
      ]
    },
    {
      "cell_type": "markdown",
      "source": [
        "#7. Write a code to append the number 10 to the list [1, 2, 3, 4]"
      ],
      "metadata": {
        "id": "yHakptoIG4-p"
      }
    },
    {
      "cell_type": "code",
      "source": [
        "\n",
        "numbers = [1, 2, 3, 4]\n",
        "numbers.append(10)\n",
        "print(numbers)\n"
      ],
      "metadata": {
        "colab": {
          "base_uri": "https://localhost:8080/"
        },
        "id": "ZDpcNi0dHJ1e",
        "outputId": "46fb36bf-8726-45eb-9ada-b5438715a875"
      },
      "execution_count": null,
      "outputs": [
        {
          "output_type": "stream",
          "name": "stdout",
          "text": [
            "[1, 2, 3, 4, 10]\n"
          ]
        }
      ]
    },
    {
      "cell_type": "markdown",
      "source": [
        "#8. Write a code to remove the number 3 from the list [1, 2, 3, 4, 5]"
      ],
      "metadata": {
        "id": "KaeSX0y8NnXw"
      }
    },
    {
      "cell_type": "code",
      "source": [
        "numbers =[1,2,3,4,5]\n",
        "numbers.remove(3)\n",
        "print (numbers)"
      ],
      "metadata": {
        "colab": {
          "base_uri": "https://localhost:8080/"
        },
        "id": "Ap188UrYHxi3",
        "outputId": "9903db35-e62a-4c1a-b1b5-6d54cf5202ad"
      },
      "execution_count": null,
      "outputs": [
        {
          "output_type": "stream",
          "name": "stdout",
          "text": [
            "[1, 2, 4, 5]\n"
          ]
        }
      ]
    },
    {
      "cell_type": "markdown",
      "source": [
        "#9. Write a code to access the second element in the list ['a', 'b', 'c', 'd']."
      ],
      "metadata": {
        "id": "S7Co4r-Fti4k"
      }
    },
    {
      "cell_type": "code",
      "source": [
        "letters = ['a', 'b', 'c', 'd']\n",
        "second_elements = letters[1]\n",
        "print(second_elements)"
      ],
      "metadata": {
        "colab": {
          "base_uri": "https://localhost:8080/"
        },
        "id": "N-TLLofOOCSd",
        "outputId": "1e5f26f1-0658-4b0e-9be5-6b381486c312"
      },
      "execution_count": null,
      "outputs": [
        {
          "output_type": "stream",
          "name": "stdout",
          "text": [
            "b\n"
          ]
        }
      ]
    },
    {
      "cell_type": "markdown",
      "source": [
        "#10. Write a code to reverse the list [10, 20, 30, 40, 50]."
      ],
      "metadata": {
        "id": "oVejMJcvvppu"
      }
    },
    {
      "cell_type": "code",
      "source": [
        "numbers =[10,20,30,40,50]\n",
        "numbers.reverse()\n",
        "print (numbers)"
      ],
      "metadata": {
        "colab": {
          "base_uri": "https://localhost:8080/"
        },
        "id": "wXDlcdc0vEAx",
        "outputId": "082f4641-223f-4da4-e1cf-fa86602a605a"
      },
      "execution_count": null,
      "outputs": [
        {
          "output_type": "stream",
          "name": "stdout",
          "text": [
            "[50, 40, 30, 20, 10]\n"
          ]
        }
      ]
    },
    {
      "cell_type": "markdown",
      "source": [
        "#11. Write a code to create a tuple with the elements 100, 200, 300 and print it"
      ],
      "metadata": {
        "id": "ihW8kKbk93pL"
      }
    },
    {
      "cell_type": "code",
      "source": [
        "my_touple=(100,200,300)\n",
        "print(my_touple)"
      ],
      "metadata": {
        "colab": {
          "base_uri": "https://localhost:8080/"
        },
        "id": "Jfs7P6FXv7Fz",
        "outputId": "b37a4b09-6e00-42ad-d880-c50060ec0f89"
      },
      "execution_count": null,
      "outputs": [
        {
          "output_type": "stream",
          "name": "stdout",
          "text": [
            "(100, 200, 300)\n"
          ]
        }
      ]
    },
    {
      "cell_type": "markdown",
      "source": [
        "#12. Write a code to access the second-to-last element of the tuple ('red', 'green', 'blue', 'yellow').\n"
      ],
      "metadata": {
        "id": "NrF-TTtM_mvv"
      }
    },
    {
      "cell_type": "code",
      "source": [
        "colors=('red','green','blue,yellow')\n",
        "second_last= colors[-2]\n",
        "print (second_last)"
      ],
      "metadata": {
        "colab": {
          "base_uri": "https://localhost:8080/"
        },
        "id": "-xA7KiZk_eDC",
        "outputId": "75d44553-c2c6-4bfd-a826-844f91f63299"
      },
      "execution_count": null,
      "outputs": [
        {
          "output_type": "stream",
          "name": "stdout",
          "text": [
            "green\n"
          ]
        }
      ]
    },
    {
      "cell_type": "markdown",
      "source": [
        "#13. Write a code to find the minimum number in the tuple (10, 20, 5, 15)."
      ],
      "metadata": {
        "id": "D2Q3n-YTR_wo"
      }
    },
    {
      "cell_type": "code",
      "source": [
        "numbers = (10,20,5,15)\n",
        "min_num=min(numbers)\n",
        "print(min_num)"
      ],
      "metadata": {
        "colab": {
          "base_uri": "https://localhost:8080/"
        },
        "id": "09buiVENCwlW",
        "outputId": "e300121a-a56e-4e00-dc65-0722ec152e08"
      },
      "execution_count": null,
      "outputs": [
        {
          "output_type": "stream",
          "name": "stdout",
          "text": [
            "5\n"
          ]
        }
      ]
    },
    {
      "cell_type": "markdown",
      "source": [
        "#14. Write a code to find the index of the element \"cat\" in the tuple ('dog', 'cat', 'rabbit')."
      ],
      "metadata": {
        "id": "FvcvW9KVUakf"
      }
    },
    {
      "cell_type": "code",
      "source": [
        "animals= ('dog','cat', 'rabbit')\n",
        "index_cat = animals.index(\"cat\")\n",
        "print (index_cat)"
      ],
      "metadata": {
        "colab": {
          "base_uri": "https://localhost:8080/"
        },
        "id": "ywnBFkrCTkmS",
        "outputId": "bdf22937-e488-4791-fcda-b3accc6ae77b"
      },
      "execution_count": null,
      "outputs": [
        {
          "output_type": "stream",
          "name": "stdout",
          "text": [
            "1\n"
          ]
        }
      ]
    },
    {
      "cell_type": "markdown",
      "source": [
        "#15. Write a code to create a tuple containing three different fruits and check if \"kiwi\" is in it."
      ],
      "metadata": {
        "id": "-sr9LKwqXjdd"
      }
    },
    {
      "cell_type": "code",
      "source": [
        "\n",
        "fruits = (\"apple\", \"banana\", \"orange\")\n",
        "if \"kiwi\" in fruits:\n",
        "    print(\"Kiwi is in the tuple\")\n",
        "else:\n",
        "    print(\"Kiwi is not in the tuple\")\n"
      ],
      "metadata": {
        "colab": {
          "base_uri": "https://localhost:8080/"
        },
        "id": "-q9jcakOV2CK",
        "outputId": "0316ab85-2cce-49c5-f585-beb6bc20fa0e"
      },
      "execution_count": null,
      "outputs": [
        {
          "output_type": "stream",
          "name": "stdout",
          "text": [
            "Kiwi is not in the tuple\n"
          ]
        }
      ]
    },
    {
      "cell_type": "markdown",
      "source": [
        "16. Write a code to create a set with the elements 'a', 'b', 'c' and print it."
      ],
      "metadata": {
        "id": "xAQAmtUwY2sl"
      }
    },
    {
      "cell_type": "code",
      "source": [
        "my_set= {'a', 'b', 'c'}\n",
        "print(my_set)"
      ],
      "metadata": {
        "colab": {
          "base_uri": "https://localhost:8080/"
        },
        "id": "x84r-n6GYU38",
        "outputId": "b7242d58-7bad-4f80-ab93-63d4a671688d"
      },
      "execution_count": null,
      "outputs": [
        {
          "output_type": "stream",
          "name": "stdout",
          "text": [
            "{'c', 'a', 'b'}\n"
          ]
        }
      ]
    },
    {
      "cell_type": "markdown",
      "source": [
        "#17. Write a code to clear all elements from the set {1, 2, 3, 4, 5}."
      ],
      "metadata": {
        "id": "mgbpm90habhh"
      }
    },
    {
      "cell_type": "code",
      "source": [
        "numbers = {1,2,3,4,5}\n",
        "numbers.clear()\n",
        "print(numbers)"
      ],
      "metadata": {
        "colab": {
          "base_uri": "https://localhost:8080/"
        },
        "id": "wUCEDzEaZlUx",
        "outputId": "472f799d-abd8-4714-e23a-ab3a50097772"
      },
      "execution_count": null,
      "outputs": [
        {
          "output_type": "stream",
          "name": "stdout",
          "text": [
            "set()\n"
          ]
        }
      ]
    },
    {
      "cell_type": "markdown",
      "source": [
        "#18. Write a code to remove the element 4 from the set {1, 2, 3, 4}."
      ],
      "metadata": {
        "id": "QkpOWTxwdKb_"
      }
    },
    {
      "cell_type": "code",
      "source": [
        "numbers ={1,2,3,4}\n",
        "numbers.remove(4)\n",
        "print(numbers)"
      ],
      "metadata": {
        "colab": {
          "base_uri": "https://localhost:8080/"
        },
        "id": "-qkR7MlBdCzk",
        "outputId": "4145cbe7-7a3f-47dd-fb6e-c111805c3439"
      },
      "execution_count": null,
      "outputs": [
        {
          "output_type": "stream",
          "name": "stdout",
          "text": [
            "{1, 2, 3}\n"
          ]
        }
      ]
    },
    {
      "cell_type": "markdown",
      "source": [
        "#19. Write a code to find the union of two sets {1, 2, 3} and {3, 4, 5}."
      ],
      "metadata": {
        "id": "b0em5FBCd4ph"
      }
    },
    {
      "cell_type": "code",
      "source": [
        "set1 ={1,2,3}\n",
        "set2 = {3,4,5}\n",
        "union_set = set1.union(set2)\n",
        "print (union_set)"
      ],
      "metadata": {
        "colab": {
          "base_uri": "https://localhost:8080/"
        },
        "id": "1iUSKjgcd0Dx",
        "outputId": "9db928aa-0da9-4a65-8624-aab4d2ffdf56"
      },
      "execution_count": null,
      "outputs": [
        {
          "output_type": "stream",
          "name": "stdout",
          "text": [
            "{1, 2, 3, 4, 5}\n"
          ]
        }
      ]
    },
    {
      "cell_type": "markdown",
      "source": [
        "20. Write a code to find the intersection of two sets {1, 2, 3} and {2, 3, 4}."
      ],
      "metadata": {
        "id": "7D3-omkQhR1p"
      }
    },
    {
      "cell_type": "code",
      "source": [
        "set1 ={1,2,3}\n",
        "set2 ={2,3,4}\n",
        "intersection_set=set1.intersection(set2)\n",
        "print(intersection_set)"
      ],
      "metadata": {
        "colab": {
          "base_uri": "https://localhost:8080/"
        },
        "id": "CkuG3l03gyuS",
        "outputId": "05123456-85e8-4642-d111-565cd024c591"
      },
      "execution_count": null,
      "outputs": [
        {
          "output_type": "stream",
          "name": "stdout",
          "text": [
            "{2, 3}\n"
          ]
        }
      ]
    },
    {
      "cell_type": "markdown",
      "source": [
        "#21. Write a code to create a dictionary with the keys \"name\", \"age\", and \"city\", and print it."
      ],
      "metadata": {
        "id": "XLVx0qyb8vzY"
      }
    },
    {
      "cell_type": "code",
      "source": [
        "person = {\n",
        "    \"name\": \"Bruno\",\n",
        "    \"age\": 4,\n",
        "    \"city\": \"INDIA\"\n",
        "}\n",
        "print(person)\n"
      ],
      "metadata": {
        "colab": {
          "base_uri": "https://localhost:8080/"
        },
        "id": "kiz4MKBciMK2",
        "outputId": "4647ec9d-4922-4ec9-80f5-e0a74e6a2660"
      },
      "execution_count": null,
      "outputs": [
        {
          "output_type": "stream",
          "name": "stdout",
          "text": [
            "{'name': 'Bruno', 'age': 4, 'city': 'INDIA'}\n"
          ]
        }
      ]
    },
    {
      "cell_type": "markdown",
      "source": [
        "#22. Write a code to add a new key-value pair \"country\": \"USA\" to the dictionary {'name': 'John', 'age': 25}."
      ],
      "metadata": {
        "id": "mTQ_-u9a949Z"
      }
    },
    {
      "cell_type": "code",
      "source": [
        "person = {'name': 'John', 'age': 25}\n",
        "person['country'] = 'USA'\n",
        "print(person)\n"
      ],
      "metadata": {
        "colab": {
          "base_uri": "https://localhost:8080/"
        },
        "id": "HifgK0Ni8_UW",
        "outputId": "29996466-27ef-42a8-c319-0d13e9dc9fe7"
      },
      "execution_count": null,
      "outputs": [
        {
          "output_type": "stream",
          "name": "stdout",
          "text": [
            "{'name': 'John', 'age': 25, 'country': 'USA'}\n"
          ]
        }
      ]
    },
    {
      "cell_type": "markdown",
      "source": [
        "#23. Write a code to access the value associated with the key \"name\" in the dictionary {'name': 'Alice', 'age': 30}."
      ],
      "metadata": {
        "id": "9i-PksDYAiK7"
      }
    },
    {
      "cell_type": "code",
      "source": [
        "person = {'name': 'Alice', 'age': 30}\n",
        "name_value = person['name']\n",
        "print(name_value)\n"
      ],
      "metadata": {
        "colab": {
          "base_uri": "https://localhost:8080/"
        },
        "id": "dtz12nvg-GEL",
        "outputId": "367b57d0-0f1b-4c48-885a-6fa69e4988ae"
      },
      "execution_count": null,
      "outputs": [
        {
          "output_type": "stream",
          "name": "stdout",
          "text": [
            "Alice\n"
          ]
        }
      ]
    },
    {
      "cell_type": "markdown",
      "source": [
        "#24. Write a code to remove the key \"age\" from the dictionary {'name': 'Bob', 'age': 22, 'city': 'New York'}."
      ],
      "metadata": {
        "id": "2qNWRJE7PRJ4"
      }
    },
    {
      "cell_type": "code",
      "source": [
        "person ={'name':'Bob', 'age':22,'city':'New york'}\n",
        "person.pop (\"age\")\n",
        "print (person)\n",
        "\n"
      ],
      "metadata": {
        "colab": {
          "base_uri": "https://localhost:8080/"
        },
        "id": "BtXyj1PHA4VE",
        "outputId": "e8f30874-2b5d-4ebc-f351-415d9de63414"
      },
      "execution_count": null,
      "outputs": [
        {
          "output_type": "stream",
          "name": "stdout",
          "text": [
            "{'name': 'Bob', 'city': 'New york'}\n"
          ]
        }
      ]
    },
    {
      "cell_type": "markdown",
      "source": [
        "#25. Write a code to check if the key \"city\" exists in the dictionary {'name': 'Alice', 'city': 'Paris'}."
      ],
      "metadata": {
        "id": "biFEZMJdQUfa"
      }
    },
    {
      "cell_type": "code",
      "source": [
        "\n",
        "person = {'name': 'Alice', 'city': 'Paris'}\n",
        "if \"city\" in person:\n",
        "    print(\"Key 'city' exists in the dictionary\")\n",
        "else:\n",
        "    print(\"Key 'city' does not exist in the dictionary\")\n"
      ],
      "metadata": {
        "colab": {
          "base_uri": "https://localhost:8080/"
        },
        "id": "tbbSNIdVSjHF",
        "outputId": "8e0b2f8a-861f-470d-810a-2d1a7b509bc4"
      },
      "execution_count": null,
      "outputs": [
        {
          "output_type": "stream",
          "name": "stdout",
          "text": [
            "Key 'city' exists in the dictionary\n"
          ]
        }
      ]
    },
    {
      "cell_type": "markdown",
      "source": [
        "#26. Write a code to create a list, a tuple, and a dictionary, and print them all."
      ],
      "metadata": {
        "id": "WWh-CdAHT4Fs"
      }
    },
    {
      "cell_type": "code",
      "source": [
        "\n",
        "my_list = [1, 2, 3, 4, 5]\n",
        "\n",
        "my_tuple = (\"mimi\", \"bruno\", \"angshu\")\n",
        "\n",
        "my_dict = {\"name\": \"bruno\", \"age\": 5, \"city\": \"kolkata\"}\n",
        "\n",
        "print(\"List:\", my_list)\n",
        "print(\"Tuple:\", my_tuple)\n",
        "print(\"Dictionary:\", my_dict)\n"
      ],
      "metadata": {
        "colab": {
          "base_uri": "https://localhost:8080/"
        },
        "id": "AH_2x6M4Sw7M",
        "outputId": "3e04b4fa-a4ac-4529-eca9-92867d0ab757"
      },
      "execution_count": null,
      "outputs": [
        {
          "output_type": "stream",
          "name": "stdout",
          "text": [
            "List: [1, 2, 3, 4, 5]\n",
            "Tuple: ('mimi', 'bruno', 'angshu')\n",
            "Dictionary: {'name': 'bruno', 'age': 5, 'city': 'kolkata'}\n"
          ]
        }
      ]
    },
    {
      "cell_type": "markdown",
      "source": [
        "#27. Write a code to create a list of 5 random numbers between 1 and 100, sort it in ascending order, and print the result."
      ],
      "metadata": {
        "id": "OFnxd41LU8l1"
      }
    },
    {
      "cell_type": "code",
      "source": [
        "import random\n",
        "\n",
        "# Create a list of 5 random numbers between 1 and 100\n",
        "numbers = [random.randint(1, 100) for _ in range(5)]\n",
        "\n",
        "# Sort the list in ascending order\n",
        "numbers.sort()\n",
        "\n",
        "# Print result\n",
        "print(\"Sorted random numbers:\", numbers)\n"
      ],
      "metadata": {
        "colab": {
          "base_uri": "https://localhost:8080/"
        },
        "id": "hyPSRdmWV-uv",
        "outputId": "91f696b8-72f3-49b7-dbc6-ea175b8a606f"
      },
      "execution_count": null,
      "outputs": [
        {
          "output_type": "stream",
          "name": "stdout",
          "text": [
            "Sorted random numbers: [7, 35, 55, 85, 86]\n"
          ]
        }
      ]
    },
    {
      "cell_type": "markdown",
      "source": [
        "#28. Write a code to create a list with strings and print the element at the third index."
      ],
      "metadata": {
        "id": "9Kt12dPG9axU"
      }
    },
    {
      "cell_type": "code",
      "source": [
        "list = [\"rice\", \"apple\", \"chicken\", \"fish\", \"potato\"]\n",
        "print (list[3])"
      ],
      "metadata": {
        "colab": {
          "base_uri": "https://localhost:8080/"
        },
        "id": "W0Z0UM08W4wS",
        "outputId": "49a1985e-bbe7-4f04-cb64-86d6f7823645"
      },
      "execution_count": null,
      "outputs": [
        {
          "output_type": "stream",
          "name": "stdout",
          "text": [
            "fish\n"
          ]
        }
      ]
    },
    {
      "cell_type": "markdown",
      "source": [
        "#29. Write a code to combine two dictionaries into one and print the result."
      ],
      "metadata": {
        "id": "M4BW1Ncn-Wms"
      }
    },
    {
      "cell_type": "code",
      "source": [
        "dict1 ={\"a\": 2, \"b\": 1}\n",
        "dict2 ={\"c\": 4, \"d\" :6}\n",
        "combined = {**dict1, **dict2}\n",
        "print (combined)"
      ],
      "metadata": {
        "colab": {
          "base_uri": "https://localhost:8080/"
        },
        "id": "R6aOxyEX-NP5",
        "outputId": "c58af58b-0ddf-4e8e-e15e-383e2737722e"
      },
      "execution_count": null,
      "outputs": [
        {
          "output_type": "stream",
          "name": "stdout",
          "text": [
            "{'a': 2, 'b': 1, 'c': 4, 'd': 6}\n"
          ]
        }
      ]
    },
    {
      "cell_type": "markdown",
      "source": [
        "#30. Write a code to convert a list of strings into a set."
      ],
      "metadata": {
        "id": "o05cyg25_wsh"
      }
    },
    {
      "cell_type": "code",
      "source": [
        "fruits = [\"apple\", \"banana\", \"cherry\", \"apple\"]\n",
        "fruit_set = set(fruits)\n",
        "print(fruit_set)\n"
      ],
      "metadata": {
        "colab": {
          "base_uri": "https://localhost:8080/"
        },
        "id": "cLOaEnAi_mjn",
        "outputId": "efb202b2-f8ba-4a6a-800a-1dfa23f28108"
      },
      "execution_count": null,
      "outputs": [
        {
          "output_type": "stream",
          "name": "stdout",
          "text": [
            "{'cherry', 'banana', 'apple'}\n"
          ]
        }
      ]
    },
    {
      "cell_type": "code",
      "source": [],
      "metadata": {
        "id": "pYVdtKDCDGqW"
      },
      "execution_count": null,
      "outputs": []
    }
  ]
}